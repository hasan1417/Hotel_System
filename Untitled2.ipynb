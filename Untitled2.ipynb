{
 "cells": [
  {
   "cell_type": "code",
   "execution_count": 4,
   "id": "fce7da1b-4c75-49f0-92c4-995f99043266",
   "metadata": {},
   "outputs": [],
   "source": [
    "import datetime\n",
    "import random\n",
    "import os\n",
    "def start_system():\n",
    "    \n",
    "    print(\"\\t\\t\\t\\t\\t\\t Hotel Booking System\\n\")\n",
    "    print(\"\\t\\t\\t 1 Add New Hotel Booking\\n\")\n",
    "    print(\"\\t\\t\\t 2 Generate Booking Confirmation\\n\")\n",
    "    print(\"\\t\\t\\t 3 Display Information for all Bookings\\n\")\n",
    "    print(\"\\t\\t\\t 4 Display Specific Booking\\n\")\n",
    "    print(\"\\t\\t\\t 5 Update Booking Information\\n\")\n",
    "    print(\"\\t\\t\\t 6 Exit\\n\")\n",
    "    \n",
    "    choice=input(\"Enter your choice:\")\n",
    "    \n",
    "    while validate_option(choice):\n",
    "    \n",
    "        if validate_option(choice)[0] == True:\n",
    "            choice =  validate_option(choice)[1]\n",
    "        \n",
    "        else:\n",
    "            choice = input( validate_option(choice)[1])\n",
    "        \n",
    "    match choice:\n",
    "        \n",
    "        case 1:\n",
    "            \n",
    "            create_booking()\n",
    "            \n",
    "        case 2:\n",
    "            None\n",
    "            \n",
    "        case 3:\n",
    "            display_all_booking()\n",
    "            \n",
    "        case 4:\n",
    "            print(\"\\t\\t\\t choose 1 to search by confirmation number\\n\")\n",
    "            print(\"\\t\\t\\t choose 2 to search by phone number\\n\")\n",
    "            \n",
    "            while True:                \n",
    "                option = input(\"Enter option: \")\n",
    "                if option == '1' or option == '2':\n",
    "                    break\n",
    "                print('Choose Valid Option!')\n",
    "\n",
    "                \n",
    "            match option: \n",
    "                case '1':\n",
    "                    while True:\n",
    "                        confirmation_number = input('Enter your confirmation number: ')\n",
    "                        if confirmation_number[:2].isalpha and confirmation_number[2:].strip().isdigit() and len(confirmation_number) == 6:\n",
    "                            break\n",
    "                        print('Invalid confirmation number format')\n",
    "                    display_specific_booking(confirmation_number=confirmation_number)\n",
    "                    \n",
    "                case '2':\n",
    "                    while True:\n",
    "                        phone_number = input('Enter your phone number: ')\n",
    "                        if phone_number.strip().isdigit():\n",
    "                            if len(phone_number) == 10 and phone_number[:2] == '05':\n",
    "                                break\n",
    "                        print('Enter a valid phone number')\n",
    "                    display_specific_booking(phone_number=phone_number)\n",
    "            \n",
    "        case 5:\n",
    "            print(\"\\t\\t\\t 1 Update Booking information\\n\")\n",
    "            print(\"\\t\\t\\t 2 Cancel Hotel Booking information\\n\")\n",
    "            print(\"\\t\\t\\t 3 Back to the main menu\\n\")\n",
    "            while True:                \n",
    "                option = input(\"Enter option: \")\n",
    "                if option == '1' or option == '2' or option =='3':\n",
    "                    break\n",
    "                print('Choose Valid Option!')\n",
    "            print(option)\n",
    "            update_booking(option)\n",
    "\n",
    "            \n",
    "        case 6:\n",
    "            exit()"
   ]
  },
  {
   "cell_type": "code",
   "execution_count": 86,
   "id": "30f8fe4c",
   "metadata": {},
   "outputs": [
    {
     "name": "stdout",
     "output_type": "stream",
     "text": [
      "\t\t\t\t\t\t Hotel Booking System\n",
      "\n",
      "\t\t\t 1 Add New Hotel Booking\n",
      "\n",
      "\t\t\t 2 Generate Booking Confirmation\n",
      "\n",
      "\t\t\t 3 Display Information for all Bookings\n",
      "\n",
      "\t\t\t 4 Display Specific Booking\n",
      "\n",
      "\t\t\t 5 Update Booking Information\n",
      "\n",
      "\t\t\t 6 Exit\n",
      "\n",
      "Enter your choice:5\n",
      "\t\t\t 1 Update Booking information\n",
      "\n",
      "\t\t\t 2 Cancel Hotel Booking information\n",
      "\n",
      "\t\t\t 3 Back to the main menu\n",
      "\n",
      "Enter option: 2\n",
      "2\n",
      "Confirmation number  \tName        Phone      City   Hotel  Check-in date   Check-out date  Number of Guests \n",
      "\n",
      "jk2161               jojo koko    0512365478 lel    fol    13/11/2022      12/12/2022      4      \n",
      "please type the confirmation number of the booking you want to delete: \n",
      "Enter your confirmation number: jk2161\n",
      "Gotcha\n",
      "Please type a correct confirmation number\n"
     ]
    },
    {
     "ename": "KeyboardInterrupt",
     "evalue": "Interrupted by user",
     "output_type": "error",
     "traceback": [
      "\u001b[1;31m---------------------------------------------------------------------------\u001b[0m",
      "\u001b[1;31mKeyboardInterrupt\u001b[0m                         Traceback (most recent call last)",
      "Cell \u001b[1;32mIn [86], line 1\u001b[0m\n\u001b[1;32m----> 1\u001b[0m \u001b[43mstart_system\u001b[49m\u001b[43m(\u001b[49m\u001b[43m)\u001b[49m\n",
      "Cell \u001b[1;32mIn [77], line 75\u001b[0m, in \u001b[0;36mstart_system\u001b[1;34m()\u001b[0m\n\u001b[0;32m     73\u001b[0m         \u001b[38;5;28mprint\u001b[39m(\u001b[38;5;124m'\u001b[39m\u001b[38;5;124mChoose Valid Option!\u001b[39m\u001b[38;5;124m'\u001b[39m)\n\u001b[0;32m     74\u001b[0m     \u001b[38;5;28mprint\u001b[39m(option)\n\u001b[1;32m---> 75\u001b[0m     \u001b[43mupdate_booking\u001b[49m\u001b[43m(\u001b[49m\u001b[43moption\u001b[49m\u001b[43m)\u001b[49m\n\u001b[0;32m     78\u001b[0m \u001b[38;5;28;01mcase\u001b[39;00m \u001b[38;5;241m6\u001b[39m:\n\u001b[0;32m     79\u001b[0m     exit()\n",
      "Cell \u001b[1;32mIn [85], line 10\u001b[0m, in \u001b[0;36mupdate_booking\u001b[1;34m(option)\u001b[0m\n\u001b[0;32m      8\u001b[0m \u001b[38;5;28mprint\u001b[39m(\u001b[38;5;124m'\u001b[39m\u001b[38;5;124mplease type the confirmation number of the booking you want to delete: \u001b[39m\u001b[38;5;124m'\u001b[39m)\n\u001b[0;32m      9\u001b[0m \u001b[38;5;28;01mwhile\u001b[39;00m \u001b[38;5;28;01mTrue\u001b[39;00m:\n\u001b[1;32m---> 10\u001b[0m     confirmation_number \u001b[38;5;241m=\u001b[39m \u001b[38;5;28;43minput\u001b[39;49m\u001b[43m(\u001b[49m\u001b[38;5;124;43m'\u001b[39;49m\u001b[38;5;124;43mEnter your confirmation number: \u001b[39;49m\u001b[38;5;124;43m'\u001b[39;49m\u001b[43m)\u001b[49m\n\u001b[0;32m     11\u001b[0m     \u001b[38;5;28;01mif\u001b[39;00m confirmation_number[:\u001b[38;5;241m2\u001b[39m]\u001b[38;5;241m.\u001b[39misalpha \u001b[38;5;129;01mand\u001b[39;00m confirmation_number[\u001b[38;5;241m2\u001b[39m:]\u001b[38;5;241m.\u001b[39mstrip()\u001b[38;5;241m.\u001b[39misdigit() \u001b[38;5;129;01mand\u001b[39;00m \u001b[38;5;28mlen\u001b[39m(confirmation_number) \u001b[38;5;241m==\u001b[39m \u001b[38;5;241m6\u001b[39m:\n\u001b[0;32m     12\u001b[0m         \u001b[38;5;28;01mwith\u001b[39;00m \u001b[38;5;28mopen\u001b[39m(\u001b[38;5;124m'\u001b[39m\u001b[38;5;124mbooking_confirmation.txt\u001b[39m\u001b[38;5;124m'\u001b[39m,\u001b[38;5;124m'\u001b[39m\u001b[38;5;124mr\u001b[39m\u001b[38;5;124m'\u001b[39m) \u001b[38;5;28;01mas\u001b[39;00m booking_confirmation:\n",
      "File \u001b[1;32m~\\anaconda3\\envs\\py10\\lib\\site-packages\\ipykernel\\kernelbase.py:1177\u001b[0m, in \u001b[0;36mKernel.raw_input\u001b[1;34m(self, prompt)\u001b[0m\n\u001b[0;32m   1173\u001b[0m \u001b[38;5;28;01mif\u001b[39;00m \u001b[38;5;129;01mnot\u001b[39;00m \u001b[38;5;28mself\u001b[39m\u001b[38;5;241m.\u001b[39m_allow_stdin:\n\u001b[0;32m   1174\u001b[0m     \u001b[38;5;28;01mraise\u001b[39;00m StdinNotImplementedError(\n\u001b[0;32m   1175\u001b[0m         \u001b[38;5;124m\"\u001b[39m\u001b[38;5;124mraw_input was called, but this frontend does not support input requests.\u001b[39m\u001b[38;5;124m\"\u001b[39m\n\u001b[0;32m   1176\u001b[0m     )\n\u001b[1;32m-> 1177\u001b[0m \u001b[38;5;28;01mreturn\u001b[39;00m \u001b[38;5;28;43mself\u001b[39;49m\u001b[38;5;241;43m.\u001b[39;49m\u001b[43m_input_request\u001b[49m\u001b[43m(\u001b[49m\n\u001b[0;32m   1178\u001b[0m \u001b[43m    \u001b[49m\u001b[38;5;28;43mstr\u001b[39;49m\u001b[43m(\u001b[49m\u001b[43mprompt\u001b[49m\u001b[43m)\u001b[49m\u001b[43m,\u001b[49m\n\u001b[0;32m   1179\u001b[0m \u001b[43m    \u001b[49m\u001b[38;5;28;43mself\u001b[39;49m\u001b[38;5;241;43m.\u001b[39;49m\u001b[43m_parent_ident\u001b[49m\u001b[43m[\u001b[49m\u001b[38;5;124;43m\"\u001b[39;49m\u001b[38;5;124;43mshell\u001b[39;49m\u001b[38;5;124;43m\"\u001b[39;49m\u001b[43m]\u001b[49m\u001b[43m,\u001b[49m\n\u001b[0;32m   1180\u001b[0m \u001b[43m    \u001b[49m\u001b[38;5;28;43mself\u001b[39;49m\u001b[38;5;241;43m.\u001b[39;49m\u001b[43mget_parent\u001b[49m\u001b[43m(\u001b[49m\u001b[38;5;124;43m\"\u001b[39;49m\u001b[38;5;124;43mshell\u001b[39;49m\u001b[38;5;124;43m\"\u001b[39;49m\u001b[43m)\u001b[49m\u001b[43m,\u001b[49m\n\u001b[0;32m   1181\u001b[0m \u001b[43m    \u001b[49m\u001b[43mpassword\u001b[49m\u001b[38;5;241;43m=\u001b[39;49m\u001b[38;5;28;43;01mFalse\u001b[39;49;00m\u001b[43m,\u001b[49m\n\u001b[0;32m   1182\u001b[0m \u001b[43m\u001b[49m\u001b[43m)\u001b[49m\n",
      "File \u001b[1;32m~\\anaconda3\\envs\\py10\\lib\\site-packages\\ipykernel\\kernelbase.py:1219\u001b[0m, in \u001b[0;36mKernel._input_request\u001b[1;34m(self, prompt, ident, parent, password)\u001b[0m\n\u001b[0;32m   1216\u001b[0m             \u001b[38;5;28;01mbreak\u001b[39;00m\n\u001b[0;32m   1217\u001b[0m \u001b[38;5;28;01mexcept\u001b[39;00m \u001b[38;5;167;01mKeyboardInterrupt\u001b[39;00m:\n\u001b[0;32m   1218\u001b[0m     \u001b[38;5;66;03m# re-raise KeyboardInterrupt, to truncate traceback\u001b[39;00m\n\u001b[1;32m-> 1219\u001b[0m     \u001b[38;5;28;01mraise\u001b[39;00m \u001b[38;5;167;01mKeyboardInterrupt\u001b[39;00m(\u001b[38;5;124m\"\u001b[39m\u001b[38;5;124mInterrupted by user\u001b[39m\u001b[38;5;124m\"\u001b[39m) \u001b[38;5;28;01mfrom\u001b[39;00m \u001b[38;5;28mNone\u001b[39m\n\u001b[0;32m   1220\u001b[0m \u001b[38;5;28;01mexcept\u001b[39;00m \u001b[38;5;167;01mException\u001b[39;00m:\n\u001b[0;32m   1221\u001b[0m     \u001b[38;5;28mself\u001b[39m\u001b[38;5;241m.\u001b[39mlog\u001b[38;5;241m.\u001b[39mwarning(\u001b[38;5;124m\"\u001b[39m\u001b[38;5;124mInvalid Message:\u001b[39m\u001b[38;5;124m\"\u001b[39m, exc_info\u001b[38;5;241m=\u001b[39m\u001b[38;5;28;01mTrue\u001b[39;00m)\n",
      "\u001b[1;31mKeyboardInterrupt\u001b[0m: Interrupted by user"
     ]
    }
   ],
   "source": [
    "start_system()"
   ]
  },
  {
   "cell_type": "code",
   "execution_count": 5,
   "id": "94477e11-6225-4bb5-b132-1b3dcd2a942d",
   "metadata": {},
   "outputs": [],
   "source": [
    "def validate_option(choice):\n",
    "    \n",
    "    try:\n",
    "        \n",
    "        if choice.strip().isdigit():\n",
    "\n",
    "            if int(choice) > 0 and int(choice) < 7:\n",
    "                return [True, int(choice)]\n",
    "\n",
    "            else:\n",
    "                return [False, 'Enter a number between 1 and 6:']\n",
    "    \n",
    "        else:\n",
    "            return [False, 'Enter a number please: ']\n",
    "    except:\n",
    "        return False\n",
    "        \n",
    "            \n",
    "            \n",
    "    "
   ]
  },
  {
   "cell_type": "code",
   "execution_count": 6,
   "id": "65c1a3da-e3fb-4af8-8822-531242ccc9ca",
   "metadata": {},
   "outputs": [],
   "source": [
    "def create_booking():\n",
    "    \n",
    "    while True:\n",
    "        first_name=input(\"What is your first name? \").lower()\n",
    "        if first_name.isalpha():\n",
    "            break\n",
    "        print (\"invalid name\")\n",
    "    \n",
    "    while True:\n",
    "        last_name=input(\"What is your last name? \").lower()\n",
    "        if last_name.isalpha():\n",
    "            break\n",
    "        print (\"invalid name\")\n",
    "    \n",
    "    while True:\n",
    "        phone_number=input(\"What is your phone number? \")\n",
    "        if phone_number.strip().isdigit():\n",
    "            if len(phone_number) == 10 and phone_number[:2] == '05':\n",
    "                break\n",
    "        print (\"invalid phone number\")\n",
    "        \n",
    "    while True:\n",
    "        city=input(\"What is your city? \").lower()\n",
    "        if city.isalpha():\n",
    "            break\n",
    "        print (\"invalid city name\")\n",
    "        \n",
    "    while True:\n",
    "        hotel=input(\"What is the hotel name? \").lower()\n",
    "        if hotel.isalpha():\n",
    "            break\n",
    "        print (\"invalid hotel name\")\n",
    "        \n",
    "    while True:\n",
    "        check_in = input('Enter your check in date: ')\n",
    "\n",
    "        try:\n",
    "            check_in = datetime.datetime.strptime(check_in, '%d/%m/%Y')\n",
    "            present = datetime.datetime.now()\n",
    "            if check_in.date() >= present.date():\n",
    "                break\n",
    "            else:\n",
    "                print('you check in date is in the past!')\n",
    "        except:\n",
    "            print('please enter the date in day/month/year format')\n",
    "            \n",
    "    while True:\n",
    "        check_out = input('Enter your check out date: ')\n",
    "\n",
    "        try:\n",
    "            check_out = datetime.datetime.strptime(check_out, '%d/%m/%Y')\n",
    "            if check_out.date() > check_in.date():\n",
    "                break\n",
    "            else:\n",
    "                print('your check out date should be after the check in date!')\n",
    "        except:\n",
    "            print('please enter the date in day/month/year format')\n",
    "            \n",
    "    while True:\n",
    "        guests_number=input(\"Number of people staying: \")\n",
    "        if guests_number.strip().isdigit():\n",
    "            break\n",
    "        print (\"please enter a valid number!\")\n",
    "        \n",
    "    confirmation_NO = first_name[0] + last_name[0] + f'{random.randint(0000,9999)}'  \n",
    "    \n",
    "    full_name = first_name + \" \" + last_name\n",
    "    \n",
    "    booking_info = [confirmation_NO, full_name, phone_number, city, hotel, check_in.strftime(\"%d/%m/%Y\"), check_out.strftime(\"%d/%m/%Y\"), guests_number]\n",
    "        \n",
    "    with open('booking_confirmation.txt','a+') as booking_confirmation:\n",
    "\n",
    "        if os.stat('booking_confirmation.txt').st_size == 0:\n",
    "            print('OMG')\n",
    "            booking_confirmation.write(\"{:<20} {:<12} {:<10} {:<6} {:<6} {:<15} {:<15} {:<15} \".format('Confirmation number','\\tName','Phone','City','Hotel','Check-in date','Check-out date','Number of Guests'))\n",
    "            booking_confirmation.write('\\n')\n",
    "            booking_confirmation.write(\"{:<20} {:<12} {:<10} {:<6} {:<6} {:<15} {:<15} {:<15} \".format(booking_info[0],booking_info[1],booking_info[2],booking_info[3],booking_info[4],booking_info[5],booking_info[6],booking_info[7]))    \n",
    "        else:\n",
    "            booking_confirmation.write('\\n')\n",
    "            booking_confirmation.write(\"{:<20} {:<12} {:<10} {:<6} {:<6} {:<15} {:<15} {:<15} \".format(booking_info[0],booking_info[1],booking_info[2],booking_info[3],booking_info[4],booking_info[5],booking_info[6],booking_info[7]))\n",
    "                "
   ]
  },
  {
   "cell_type": "code",
   "execution_count": 7,
   "id": "15ddbe75",
   "metadata": {},
   "outputs": [],
   "source": [
    "def display_all_booking():\n",
    "    with open('booking_confirmation.txt','r') as booking_confirmation:\n",
    "        for line in booking_confirmation.readlines():\n",
    "            print(line)"
   ]
  },
  {
   "cell_type": "code",
   "execution_count": 8,
   "id": "a7516ef9",
   "metadata": {},
   "outputs": [],
   "source": [
    "def display_all_booking():\n",
    "    with open('booking_confirmation.txt','r') as booking_confirmation:\n",
    "        for line in booking_confirmation.readlines():\n",
    "            print(line)"
   ]
  },
  {
   "cell_type": "code",
   "execution_count": 110,
   "id": "737ab179",
   "metadata": {},
   "outputs": [
    {
     "name": "stdout",
     "output_type": "stream",
     "text": [
      "\t\t\t\t\t\t Hotel Booking System\n",
      "\n",
      "\t\t\t 1 Add New Hotel Booking\n",
      "\n",
      "\t\t\t 2 Generate Booking Confirmation\n",
      "\n",
      "\t\t\t 3 Display Information for all Bookings\n",
      "\n",
      "\t\t\t 4 Display Specific Booking\n",
      "\n",
      "\t\t\t 5 Update Booking Information\n",
      "\n",
      "\t\t\t 6 Exit\n",
      "\n",
      "Enter your choice:5\n",
      "\t\t\t 1 Update Booking information\n",
      "\n",
      "\t\t\t 2 Cancel Hotel Booking information\n",
      "\n",
      "\t\t\t 3 Back to the main menu\n",
      "\n",
      "Enter option: 2\n",
      "2\n",
      "Confirmation number  \tName        Phone      City   Hotel  Check-in date   Check-out date  Number of Guests \n",
      "\n",
      "please type the confirmation number of the booking you want to delete: \n",
      "Enter your confirmation number or 1 to return: 1\n",
      "\t\t\t\t\t\t Hotel Booking System\n",
      "\n",
      "\t\t\t 1 Add New Hotel Booking\n",
      "\n",
      "\t\t\t 2 Generate Booking Confirmation\n",
      "\n",
      "\t\t\t 3 Display Information for all Bookings\n",
      "\n",
      "\t\t\t 4 Display Specific Booking\n",
      "\n",
      "\t\t\t 5 Update Booking Information\n",
      "\n",
      "\t\t\t 6 Exit\n",
      "\n",
      "Enter your choice:6\n"
     ]
    }
   ],
   "source": [
    "start_system()\n"
   ]
  },
  {
   "cell_type": "code",
   "execution_count": 18,
   "id": "523165fc",
   "metadata": {},
   "outputs": [],
   "source": [
    "def display_specific_booking(confirmation_number='', phone_number=''):\n",
    "    if confirmation_number != '':\n",
    "        with open('booking_confirmation.txt','r') as booking_confirmation:\n",
    "            for booking in booking_confirmation.readlines():\n",
    "                if confirmation_number in booking:\n",
    "                    booking=\" \".join(booking.split())\n",
    "                    booking_info = ['Confirmation Number: ', 'Phone Number: ','City: ','Hotel: ','Check-in: ','Check-out: ','Number of Guests: ']\n",
    "                    booking = booking.split()\n",
    "                    del booking[1:3]\n",
    "                    for i, info in enumerate(booking):\n",
    "                        print(booking_info[i],info)\n",
    "                else:\n",
    "                    print('No booking was found !')\n",
    "                    start_system()\n",
    "\n",
    "    \n",
    "    \n",
    "    if phone_number != '':\n",
    "        with open('booking_confirmation.txt','r') as booking_confirmation:\n",
    "            for booking in booking_confirmation.readlines():\n",
    "                if phone_number in booking:\n",
    "                    booking=\" \".join(booking.split())\n",
    "                    booking_info = ['Confirmation Number: ', 'Phone Number: ','City: ','Hotel: ','Check-in: ','Check-out: ','Number of Guests: ']\n",
    "                    booking = booking.split()\n",
    "                    del booking[1:3]\n",
    "                    for i, info in enumerate(booking):\n",
    "                        print(booking_info[i],info)\n",
    "                else:\n",
    "                    print('No booking was found !')\n",
    "                    start_system()\n"
   ]
  },
  {
   "cell_type": "code",
   "execution_count": 93,
   "id": "2221e373",
   "metadata": {},
   "outputs": [],
   "source": [
    "def display_all_booking():\n",
    "    with open('booking_confirmation.txt','r') as booking_confirmation:\n",
    "        for line in booking_confirmation.readlines():\n",
    "            print(line)"
   ]
  },
  {
   "cell_type": "code",
   "execution_count": 129,
   "id": "6bec7a24",
   "metadata": {},
   "outputs": [
    {
     "name": "stdout",
     "output_type": "stream",
     "text": [
      "False\n"
     ]
    }
   ],
   "source": [
    "    with open('booking_confirmation.txt','r+') as booking_confirmation:\n",
    "        print(booking_confirmation.read(1)== '')\n"
   ]
  },
  {
   "cell_type": "code",
   "execution_count": 8,
   "id": "8f7248c0",
   "metadata": {},
   "outputs": [
    {
     "name": "stdout",
     "output_type": "stream",
     "text": [
      "Confirmation Number:  dd5835\n",
      "Phone Number:  0512344677\n",
      "City:  ssd\n",
      "Hotel:  sds\n",
      "Check-in:  12/12/2022\n",
      "Check-out:  15/12/2022\n",
      "Number of Guests:  4\n"
     ]
    }
   ],
   "source": [
    "    with open('booking_confirmation.txt','r') as booking_confirmation:\n",
    "        x=\" \".join(booking_confirmation.readlines()[1].split())\n",
    "        booking = ['Confirmation Number: ', 'Phone Number: ','City: ','Hotel: ','Check-in: ','Check-out: ','Number of Guests: ']\n",
    "        x = x.split()\n",
    "        del x[1:3]\n",
    "        for i, info in enumerate(x):\n",
    "            print(booking[i],info)"
   ]
  },
  {
   "cell_type": "code",
   "execution_count": 177,
   "id": "8785eefc",
   "metadata": {},
   "outputs": [],
   "source": [
    "x = x.split()"
   ]
  },
  {
   "cell_type": "code",
   "execution_count": 178,
   "id": "2a3c53cc",
   "metadata": {},
   "outputs": [],
   "source": [
    "del x[1:3]"
   ]
  },
  {
   "cell_type": "code",
   "execution_count": 179,
   "id": "5b8c53c6",
   "metadata": {},
   "outputs": [
    {
     "data": {
      "text/plain": [
       "['dd5835', '0512344677', 'ssd', 'sds', '12/12/2022', '15/12/2022', '4']"
      ]
     },
     "execution_count": 179,
     "metadata": {},
     "output_type": "execute_result"
    }
   ],
   "source": [
    "x"
   ]
  },
  {
   "cell_type": "code",
   "execution_count": 68,
   "id": "2b63b711",
   "metadata": {},
   "outputs": [
    {
     "name": "stdout",
     "output_type": "stream",
     "text": [
      "1\n"
     ]
    }
   ],
   "source": [
    "with open('booking_confirmation.txt','r+') as booking_confirmation:\n",
    "#     all_list = booking_confirmation.readlines()\n",
    "#     print(all_list)\n",
    "    x=[]\n",
    "    for index, line in enumerate(booking_confirmation.readlines()):\n",
    "        if 'ha5670' in line:\n",
    "            print(index)\n",
    "        else:\n",
    "            x.append(line)\n",
    "    booking_confirmation.truncate(0)\n",
    "#     print(x)\n",
    "#     booking_confirmation.writelines(x)\n",
    "#     print(all_list)\n",
    "#     booking_confirmation.truncate(0)\n",
    "#     booking_confirmation.writelines(all_list)\n",
    "#     booking_confirmation.writelines(x)\n",
    "\n",
    "with open('booking_confirmation.txt','r+') as booking_confirmation:\n",
    "    booking_confirmation.writelines(x)\n",
    "            "
   ]
  },
  {
   "cell_type": "code",
   "execution_count": 66,
   "id": "7d3e0273",
   "metadata": {},
   "outputs": [
    {
     "data": {
      "text/plain": [
       "['Confirmation number  \\tName        Phone      City   Hotel  Check-in date   Check-out date  Number of Guests \\n',\n",
       " 'ha5670               hassan algizani 0594220001 jeddah ritz   13/11/2022      15/11/2022      2               \\n',\n",
       " 'jk2161               jojo koko    0512365478 lel    fol    13/11/2022      12/12/2022      4               ']"
      ]
     },
     "execution_count": 66,
     "metadata": {},
     "output_type": "execute_result"
    }
   ],
   "source": [
    "x"
   ]
  },
  {
   "cell_type": "code",
   "execution_count": 17,
   "id": "484b0a71",
   "metadata": {},
   "outputs": [],
   "source": [
    "def update_booking(option):\n",
    "\n",
    "    match option:\n",
    "        case '1':\n",
    "            display_all_booking()\n",
    "            print('please type the confirmation number of the booking you want to change: ')\n",
    "            correct_input = False\n",
    "            while  correct_input == False:\n",
    "                confirmation_number = input('Enter your confirmation number or 1 to return: ')\n",
    "                if confirmation_number[:2].isalpha and confirmation_number[2:].strip().isdigit() and len(confirmation_number) == 6:\n",
    "                    with open('booking_confirmation.txt','r') as booking_confirmation:\n",
    "                        for booking in booking_confirmation.readlines():\n",
    "                            if confirmation_number in booking:\n",
    "                                correct_input = True\n",
    "                        if correct_input == False:\n",
    "                            print('Please type a correct confirmation number')\n",
    "                if confirmation_number == '1':\n",
    "                        correct_input = True\n",
    "                        start_system()\n",
    "                        \n",
    "            while True:\n",
    "                hotel=input(\"what is the new hotel name? \").lower()\n",
    "                if hotel.isalpha():\n",
    "                    break\n",
    "                print (\"invalid hotel name\")\n",
    "\n",
    "            while True:\n",
    "                check_in = input('Enter your new check in date: ')\n",
    "\n",
    "                try:\n",
    "                    check_in = datetime.datetime.strptime(check_in, '%d/%m/%Y')\n",
    "                    present = datetime.datetime.now()\n",
    "                    if check_in.date() >= present.date():\n",
    "                        break\n",
    "                    else:\n",
    "                        print('you check in date is in the past!')\n",
    "                except:\n",
    "                    print('please enter the date in day/month/year format')\n",
    "\n",
    "            while True:\n",
    "                check_out = input('Enter your new check out date: ')\n",
    "\n",
    "                try:\n",
    "                    check_out = datetime.datetime.strptime(check_out, '%d/%m/%Y')\n",
    "                    if check_out.date() > check_in.date():\n",
    "                        break\n",
    "                    else:\n",
    "                        print('your check out date should be after the check in date!')\n",
    "                except:\n",
    "                    print('please enter the date in day/month/year format')\n",
    "                    \n",
    "#             booking_confirmation.write(\"{:<20} {:<12} {:<10} {:<6} {:<6} {:<15} {:<15} {:<15} \".format()\n",
    "                \n",
    "            with open('booking_confirmation.txt','r') as booking_confirmation:\n",
    "                x=''\n",
    "                booking_index = ''\n",
    "                for index, line in enumerate(booking_confirmation.readlines()):\n",
    "                    if confirmation_number in line:\n",
    "                        x=line\n",
    "                        booking_index = index\n",
    "                x=\" \".join(x.split())\n",
    "                x = x.split()\n",
    "                x[-4:-1] = hotel,check_in, check_out\n",
    "                \n",
    "            with open('booking_confirmation.txt','w') as booking_confirmation:\n",
    "                booking_confirmation.writelines()\n",
    "                \n",
    "                    \n",
    "        \n",
    "        case '2':\n",
    "            display_all_booking()\n",
    "            print('please type the confirmation number of the booking you want to delete: ')\n",
    "            correct_input = False\n",
    "            while  correct_input == False:\n",
    "                confirmation_number = input('Enter your confirmation number or 1 to return: ')\n",
    "                if confirmation_number[:2].isalpha and confirmation_number[2:].strip().isdigit() and len(confirmation_number) == 6:\n",
    "                    with open('booking_confirmation.txt','r') as booking_confirmation:\n",
    "                        for booking in booking_confirmation.readlines():\n",
    "                            if confirmation_number in booking:\n",
    "                                correct_input = True\n",
    "                        if correct_input == False:\n",
    "                            print('Please type a correct confirmation number')\n",
    "                if confirmation_number == '1':\n",
    "                        correct_input = True\n",
    "                        start_system()\n",
    "\n",
    "            with open('booking_confirmation.txt','r+') as booking_confirmation:\n",
    "                x=[]\n",
    "                for line in booking_confirmation.readlines():\n",
    "                    if confirmation_number in line:\n",
    "                        continue\n",
    "                    else:\n",
    "                        x.append(line)\n",
    "                booking_confirmation.truncate(0)\n",
    "            with open('booking_confirmation.txt','w') as booking_confirmation:\n",
    "                booking_confirmation.writelines(x)\n",
    "        \n",
    "        case '3':\n",
    "            system_start()"
   ]
  },
  {
   "cell_type": "code",
   "execution_count": null,
   "id": "6da4dd26",
   "metadata": {},
   "outputs": [],
   "source": [
    "Confirmation number  \tName        Phone      City   Hotel  Check-in date   Check-out date  Number of Guests \n",
    "ha5670               hassan algizani 0594220001 jeddah ritz   13/11/2022      15/11/2022      2               \n",
    "jk2161               jojo koko    0512365478 lel    fol    13/11/2022      12/12/2022      4            "
   ]
  },
  {
   "cell_type": "code",
   "execution_count": 84,
   "id": "28c56f56",
   "metadata": {},
   "outputs": [
    {
     "name": "stdout",
     "output_type": "stream",
     "text": [
      "jk2161\n",
      "yes\n"
     ]
    }
   ],
   "source": [
    "    choice=input()\n",
    "    with open('booking_confirmation.txt','r') as booking_confirmation:\n",
    "        for booking in booking_confirmation.readlines():\n",
    "            if choice in booking:\n",
    "                print('yes')"
   ]
  },
  {
   "cell_type": "code",
   "execution_count": 18,
   "id": "2bfe53a6",
   "metadata": {},
   "outputs": [
    {
     "name": "stdout",
     "output_type": "stream",
     "text": [
      "\t\t\t\t\t\t Hotel Booking System\n",
      "\n",
      "\t\t\t 1 Add New Hotel Booking\n",
      "\n",
      "\t\t\t 2 Generate Booking Confirmation\n",
      "\n",
      "\t\t\t 3 Display Information for all Bookings\n",
      "\n",
      "\t\t\t 4 Display Specific Booking\n",
      "\n",
      "\t\t\t 5 Update Booking Information\n",
      "\n",
      "\t\t\t 6 Exit\n",
      "\n",
      "Enter your choice:5\n",
      "\t\t\t 1 Update Booking information\n",
      "\n",
      "\t\t\t 2 Cancel Hotel Booking information\n",
      "\n",
      "\t\t\t 3 Back to the main menu\n",
      "\n",
      "Enter option: 1\n",
      "1\n",
      "Confirmation number  \tName        Phone      City   Hotel  Check-in date   Check-out date  Number of Guests \n",
      "\n",
      "ha5670               hassan algizani 0594220001 jeddah ritz   13/11/2022      15/11/2022      2               \n",
      "\n",
      "jk2161               jojo koko    0512365478 lel    fol    13/11/2022      12/12/2022      4            \n",
      "please type the confirmation number of the booking you want to change: \n",
      "Enter your confirmation number or 1 to return: ha5670\n",
      "what is the new hotel name? ff\n",
      "Enter your new check in date: 12/12/2022\n",
      "Enter your new check out date: 14/12/2022\n"
     ]
    }
   ],
   "source": [
    "start_system()"
   ]
  },
  {
   "cell_type": "code",
   "execution_count": 19,
   "id": "75c233e5",
   "metadata": {},
   "outputs": [
    {
     "ename": "NameError",
     "evalue": "name 'x' is not defined",
     "output_type": "error",
     "traceback": [
      "\u001b[1;31m---------------------------------------------------------------------------\u001b[0m",
      "\u001b[1;31mNameError\u001b[0m                                 Traceback (most recent call last)",
      "Cell \u001b[1;32mIn [19], line 1\u001b[0m\n\u001b[1;32m----> 1\u001b[0m \u001b[43mx\u001b[49m\n",
      "\u001b[1;31mNameError\u001b[0m: name 'x' is not defined"
     ]
    }
   ],
   "source": [
    "x"
   ]
  },
  {
   "cell_type": "code",
   "execution_count": 21,
   "id": "b21c91b5",
   "metadata": {},
   "outputs": [],
   "source": [
    "with open('booking_confirmation.txt','r+') as booking_confirmation:\n",
    "    x=''\n",
    "    for line in booking_confirmation.readlines():\n",
    "        if 'ha5670' in line:\n",
    "            x=line\n",
    "    x=\" \".join(x.split())\n",
    "    x = x.split()"
   ]
  },
  {
   "cell_type": "code",
   "execution_count": 24,
   "id": "22c95d8e",
   "metadata": {},
   "outputs": [],
   "source": [
    "x[-4:-1] = 'lol', '13/11/2022','16/12/2022'"
   ]
  },
  {
   "cell_type": "code",
   "execution_count": 25,
   "id": "edebee9a",
   "metadata": {},
   "outputs": [
    {
     "data": {
      "text/plain": [
       "['ha5670',\n",
       " 'hassan',\n",
       " 'algizani',\n",
       " '0594220001',\n",
       " 'jeddah',\n",
       " 'lol',\n",
       " '13/11/2022',\n",
       " '16/12/2022',\n",
       " '2']"
      ]
     },
     "execution_count": 25,
     "metadata": {},
     "output_type": "execute_result"
    }
   ],
   "source": [
    "x"
   ]
  },
  {
   "cell_type": "code",
   "execution_count": null,
   "id": "98703133",
   "metadata": {},
   "outputs": [],
   "source": []
  }
 ],
 "metadata": {
  "kernelspec": {
   "display_name": "Python 3 (ipykernel)",
   "language": "python",
   "name": "python3"
  },
  "language_info": {
   "codemirror_mode": {
    "name": "ipython",
    "version": 3
   },
   "file_extension": ".py",
   "mimetype": "text/x-python",
   "name": "python",
   "nbconvert_exporter": "python",
   "pygments_lexer": "ipython3",
   "version": "3.10.6"
  }
 },
 "nbformat": 4,
 "nbformat_minor": 5
}
